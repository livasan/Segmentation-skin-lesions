{
 "cells": [
  {
   "cell_type": "code",
   "execution_count": 3,
   "id": "f9f9cc1e",
   "metadata": {},
   "outputs": [],
   "source": [
    "import numpy as np\n",
    "import matplotlib.pyplot as plt\n",
    "from matplotlib import rcParams\n",
    "from tqdm.notebook import tqdm, trange\n",
    "import os\n",
    "\n",
    "import torch\n",
    "from torch.nn import functional as F\n",
    "from torch import nn, optim\n",
    "from torch.optim.lr_scheduler import StepLR\n",
    "\n",
    "\n",
    "import torchvision\n",
    "from torchvision import datasets, transforms as tfs\n",
    "\n",
    "from skimage.io import imread\n",
    "\n",
    "rcParams['figure.figsize' = (15, 4)]"
   ]
  },
  {
   "cell_type": "code",
   "execution_count": 12,
   "id": "d8de2a71",
   "metadata": {},
   "outputs": [],
   "source": [
    "images = []\n",
    "lesions = []\n",
    "\n",
    "root = 'C:/Users/livasan/Downloads/PH2Dataset/PH2Dataset'\n",
    "\n",
    "for root, dirs, file in os.walk(os.path.join(root, 'PH2 Dataset images')):\n",
    "    if root.endswith('_Dermoscopic_Image'):\n",
    "        images.append(imread(os.path.join(root, file[0])))\n",
    "    if root.endswith('_lesion'):\n",
    "        lesions.append(imread(os.path.join(root, file[0])))"
   ]
  },
  {
   "cell_type": "code",
   "execution_count": null,
   "id": "e4ef4538",
   "metadata": {},
   "outputs": [],
   "source": []
  },
  {
   "cell_type": "code",
   "execution_count": null,
   "id": "483550b8",
   "metadata": {},
   "outputs": [],
   "source": [
    "fig, axes = plt.subplots(2, 6)\n",
    "for i in range(6):\n",
    "    axes[0, i + 1].imshow(images[i])\n",
    "    "
   ]
  }
 ],
 "metadata": {
  "kernelspec": {
   "display_name": "Python 3 (ipykernel)",
   "language": "python",
   "name": "python3"
  },
  "language_info": {
   "codemirror_mode": {
    "name": "ipython",
    "version": 3
   },
   "file_extension": ".py",
   "mimetype": "text/x-python",
   "name": "python",
   "nbconvert_exporter": "python",
   "pygments_lexer": "ipython3",
   "version": "3.9.7"
  }
 },
 "nbformat": 4,
 "nbformat_minor": 5
}
